{
 "cells": [
  {
   "cell_type": "code",
   "execution_count": 16,
   "metadata": {},
   "outputs": [],
   "source": [
    "import math"
   ]
  },
  {
   "cell_type": "markdown",
   "metadata": {},
   "source": [
    "The functions $f(x)=x^2+1$ and $g(x,y)=(\\sqrt{x+y}, y^3-yx)$ can be written as followed:"
   ]
  },
  {
   "cell_type": "code",
   "execution_count": 17,
   "metadata": {},
   "outputs": [],
   "source": [
    "def f(x):\n",
    "    return x**2 +1\n",
    "\n",
    "def g(x,y):\n",
    "    return [math.sqrt(x+y),y**3-y*x]"
   ]
  },
  {
   "cell_type": "markdown",
   "metadata": {},
   "source": [
    "$f(3)=3^2+1=10$ and $g(1,2)= (\\sqrt{3},6)$ can be computed as follows"
   ]
  },
  {
   "cell_type": "code",
   "execution_count": 18,
   "metadata": {},
   "outputs": [
    {
     "name": "stdout",
     "output_type": "stream",
     "text": [
      "f(3) = 10\n",
      "g(1,2) = [1.7320508075688772, 6]\n"
     ]
    }
   ],
   "source": [
    "print(\"f(3) =\",f(3))\n",
    "print(\"g(1,2) =\",g(1,2))"
   ]
  },
  {
   "cell_type": "markdown",
   "metadata": {},
   "source": [
    "Now conisder the sum given in the notes:\n",
    "$$ \\sum_{k=1}^5 (k^2-k) = 0 + 2 + 6 + 12 + 20 = 40$$"
   ]
  },
  {
   "cell_type": "code",
   "execution_count": 19,
   "metadata": {},
   "outputs": [
    {
     "name": "stdout",
     "output_type": "stream",
     "text": [
      "The indexes and the terms are:\n",
      "k = 1 , so k^2-k = 0\n",
      "k = 2 , so k^2-k = 2\n",
      "k = 3 , so k^2-k = 6\n",
      "k = 4 , so k^2-k = 12\n",
      "k = 5 , so k^2-k = 20\n",
      "\n",
      "\n",
      "The total is 40\n"
     ]
    }
   ],
   "source": [
    "print(\"The indexes and the terms are:\")\n",
    "\n",
    "total = 0\n",
    "for k in range(1,6):\n",
    "    print(\"k =\",k,\", so\",\"k^2-k =\",k**2-k)\n",
    "    total += k**2 - k\n",
    "print('\\n')\n",
    "print(\"The total is\",total)"
   ]
  },
  {
   "cell_type": "code",
   "execution_count": null,
   "metadata": {},
   "outputs": [],
   "source": []
  }
 ],
 "metadata": {
  "kernelspec": {
   "display_name": "Python 3",
   "language": "python",
   "name": "python3"
  },
  "language_info": {
   "codemirror_mode": {
    "name": "ipython",
    "version": 3
   },
   "file_extension": ".py",
   "mimetype": "text/x-python",
   "name": "python",
   "nbconvert_exporter": "python",
   "pygments_lexer": "ipython3",
   "version": "3.7.3"
  }
 },
 "nbformat": 4,
 "nbformat_minor": 2
}
